{
 "cells": [
  {
   "cell_type": "code",
   "execution_count": 12,
   "id": "e8ae1c94",
   "metadata": {},
   "outputs": [
    {
     "data": {
      "text/markdown": [
       "## 주문 발송 여부 확인 프로그램. 자동발송인 경우에만 확인 가능합니다."
      ],
      "text/plain": [
       "<IPython.core.display.Markdown object>"
      ]
     },
     "metadata": {},
     "output_type": "display_data"
    },
    {
     "data": {
      "application/vnd.jupyter.widget-view+json": {
       "model_id": "ec24b83e0d294d8d9473abc58410e83b",
       "version_major": 2,
       "version_minor": 0
      },
      "text/plain": [
       "Text(value='', description='주문번호')"
      ]
     },
     "metadata": {},
     "output_type": "display_data"
    },
    {
     "data": {
      "application/vnd.jupyter.widget-view+json": {
       "model_id": "ab08ec5bd3454e64aabbdda3ebfd8cee",
       "version_major": 2,
       "version_minor": 0
      },
      "text/plain": [
       "Text(value='', description='네이버아이디')"
      ]
     },
     "metadata": {},
     "output_type": "display_data"
    },
    {
     "data": {
      "application/vnd.jupyter.widget-view+json": {
       "model_id": "505f2651275f42fdb6a96123b17a4bb3",
       "version_major": 2,
       "version_minor": 0
      },
      "text/plain": [
       "Button(description='검색', style=ButtonStyle())"
      ]
     },
     "metadata": {},
     "output_type": "display_data"
    },
    {
     "data": {
      "text/html": [
       "<style type=\"text/css\">\n",
       "#T_c4f45_row0_col0, #T_c4f45_row0_col1, #T_c4f45_row0_col2, #T_c4f45_row0_col3 {\n",
       "  text-align: center;\n",
       "}\n",
       "</style>\n",
       "<table id=\"T_c4f45_\">\n",
       "  <thead>\n",
       "    <tr>\n",
       "      <th class=\"blank level0\" >&nbsp;</th>\n",
       "      <th class=\"col_heading level0 col0\" >네이버주문번호</th>\n",
       "      <th class=\"col_heading level0 col1\" >코드</th>\n",
       "      <th class=\"col_heading level0 col2\" >상품이름</th>\n",
       "      <th class=\"col_heading level0 col3\" >송신한 네이버 아이디</th>\n",
       "    </tr>\n",
       "  </thead>\n",
       "  <tbody>\n",
       "    <tr>\n",
       "      <th id=\"T_c4f45_level0_row0\" class=\"row_heading level0 row0\" >0</th>\n",
       "      <td id=\"T_c4f45_row0_col0\" class=\"data row0 col0\" >123456789</td>\n",
       "      <td id=\"T_c4f45_row0_col1\" class=\"data row0 col1\" >john.smith@example.com</td>\n",
       "      <td id=\"T_c4f45_row0_col2\" class=\"data row0 col2\" >30</td>\n",
       "      <td id=\"T_c4f45_row0_col3\" class=\"data row0 col3\" >123456</td>\n",
       "    </tr>\n",
       "  </tbody>\n",
       "</table>\n"
      ],
      "text/plain": [
       "<pandas.io.formats.style.Styler at 0x1af1de48220>"
      ]
     },
     "metadata": {},
     "output_type": "display_data"
    }
   ],
   "source": [
    "import requests\n",
    "import pandas as pd\n",
    "import ipywidgets as widgets\n",
    "from IPython.display import display, Markdown\n",
    "\n",
    "# Define the input boxes\n",
    "order_number_input = widgets.Text(description='주문번호')\n",
    "naver_id_input = widgets.Text(description='네이버아이디')\n",
    "search_button = widgets.Button(description='검색')\n",
    "\n",
    "def handle_search_button_click(button):\n",
    "    # Get the current values of the input boxes\n",
    "    order_number_input1 = order_number_input.value\n",
    "    naver_id_input1 = naver_id_input.value\n",
    "    \n",
    "    # Make the API request with the input values\n",
    "    response = requests.get('https://x8ki-letl-twmt.n7.xano.io/api:ymIW3Ap0/userview', params={'ProductOrderNum': order_number_input1, 'Sent_to': naver_id_input1})\n",
    "    \n",
    "    # Check if the response was successful\n",
    "    if response.status_code != 200:\n",
    "        print('에러가 발생했습니다. 톡톡으로 문의해주시기 바랍니다.')\n",
    "        return\n",
    "    \n",
    "    # Convert the response to a JSON object\n",
    "    data = response.json()\n",
    "    \n",
    "    # Convert the JSON object to a Pandas DataFrame\n",
    "    df = pd.DataFrame(data)\n",
    "    \n",
    "    # Rename the columns\n",
    "    df = df.rename(columns={'ProductOrderNum': '네이버주문번호', 'Code': '코드', 'Productname': '상품이름', 'Sent_to': '송신한 네이버 아이디'})\n",
    "    \n",
    "    # Check if the DataFrame is empty\n",
    "    if len(df) == 0:\n",
    "        print('데이터가 없습니다.')\n",
    "    else:\n",
    "        # Display the DataFrame with a nicer format\n",
    "        display(df.style.set_properties(**{'text-align': 'center'}))\n",
    "# Attach the button click handler to the button\n",
    "search_button.on_click(handle_search_button_click)\n",
    "\n",
    "# Display the title, input boxes and the button\n",
    "display(Markdown('## 주문 발송 여부 확인 프로그램. 자동발송인 경우에만 확인 가능합니다.'))\n",
    "display(order_number_input)\n",
    "display(naver_id_input)\n",
    "display(search_button)"
   ]
  },
  {
   "cell_type": "code",
   "execution_count": null,
   "id": "0e49c6f2",
   "metadata": {},
   "outputs": [],
   "source": []
  }
 ],
 "metadata": {
  "kernelspec": {
   "display_name": "Python 3 (ipykernel)",
   "language": "python",
   "name": "python3"
  },
  "language_info": {
   "codemirror_mode": {
    "name": "ipython",
    "version": 3
   },
   "file_extension": ".py",
   "mimetype": "text/x-python",
   "name": "python",
   "nbconvert_exporter": "python",
   "pygments_lexer": "ipython3",
   "version": "3.9.7"
  }
 },
 "nbformat": 4,
 "nbformat_minor": 5
}
